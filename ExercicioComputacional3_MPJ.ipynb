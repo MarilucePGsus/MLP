{
 "cells": [
  {
   "cell_type": "markdown",
   "id": "f707c03f",
   "metadata": {},
   "source": [
    "# MLP"
   ]
  },
  {
   "cell_type": "markdown",
   "id": "3edabbbc",
   "metadata": {},
   "source": [
    "## Introdução\n",
    "Neste exercício computacional 3 iremos trabalhar com MLP. Vale lembrar que MLP (Multi Layer Perceptron ou Perceptron Multicamadas) é uma rede neural com uma ou mais camadas ocultas com um número indeterminado de neurônios. A camada oculta possui esse nome porque não é possível prever a saída desejada nas camadas intermediárias."
   ]
  },
  {
   "cell_type": "markdown",
   "id": "781fc642",
   "metadata": {},
   "source": [
    "## Execução do trabalho"
   ]
  },
  {
   "cell_type": "markdown",
   "id": "e57775ae",
   "metadata": {},
   "source": [
    "1. Fazendo o import das bibliotecas:"
   ]
  },
  {
   "cell_type": "code",
   "execution_count": 1,
   "id": "94d53a33",
   "metadata": {},
   "outputs": [],
   "source": [
    "import numpy as np\n",
    "import random \n",
    "import math\n",
    "import matplotlib.pyplot as plt"
   ]
  },
  {
   "cell_type": "markdown",
   "id": "a8ae5b2b",
   "metadata": {},
   "source": [
    "2. Rede neural, onde se utiliza a função sigmoidal como função de ativação para os neurônios da camada oculta e da camada de saída:"
   ]
  },
  {
   "cell_type": "code",
   "execution_count": 2,
   "id": "62d369d2",
   "metadata": {},
   "outputs": [],
   "source": [
    "class NN:\n",
    "    def __init__(self, layers, eta):\n",
    "        self.W = []\n",
    "        self.layers = layers\n",
    "        self.eta = eta\n",
    "\n",
    "        for i in range(0, len(layers)-2):\n",
    "            w = np.random.randn(layers[i] + 1, layers[i+1] + 1)\n",
    "            self.W.append(w/np.sqrt(layers[i]))\n",
    "        \n",
    "        w = np.random.randn(layers[-2] + 1, layers[-1])\n",
    "        self.W.append(w/np.sqrt(layers[-2]))\n",
    "        \n",
    "    def sigmoid(self, x):\n",
    "        return 1.0/ (1.0 + np.exp(-x))\n",
    "\n",
    "    def predict(self, X):\n",
    "        p = np.atleast_2d(X)\n",
    "        p = np.c_[p, np.ones((p.shape[0]))]\n",
    "        for layer in np.arange(0, len(self.W)):\n",
    "            p = self.sigmoid(np.dot(p, self.W[layer]))\n",
    "        return p \n",
    "\n",
    "    def sigmoid_derivada(self, x):\n",
    "        return x*(1-x)\n",
    "\n",
    "    def fit_partial(self, x, y):\n",
    "        A = [np.atleast_2d(x)]\n",
    "        for layer in np.arange(0, len(self.W)):\n",
    "            net = A[layer].dot(self.W[layer])\n",
    "            out = self.sigmoid(net)\n",
    "            A.append(out)\n",
    "        \n",
    "        error = A[-1] - y\n",
    "        Delt = [error * self.sigmoid_derivada(A[-1])]\n",
    "        for layer in np.arange(len(A) -2,0,-1):\n",
    "            delta = Delt[-1].dot(self.W[layer].T)\n",
    "            delta = delta * self.sigmoid_derivada(A[layer])\n",
    "            Delt.append(delta)\n",
    "\n",
    "        Delt = Delt[::-1]\n",
    "        \n",
    "        for layer in np.arange(0, len(self.W)):\n",
    "            self.W[layer] += -self.eta*A[layer].T.dot(Delt[layer])\n",
    "\n",
    "    def fit(self, X, y, Ne):\n",
    "        X = np.c_[X, np.ones((X.shape[0]))]\n",
    "        for epoch in np.arange(0,Ne):\n",
    "            for (x, target) in zip(X, y):\n",
    "                self.fit_partial(x, target) "
   ]
  },
  {
   "cell_type": "markdown",
   "id": "1a60e103",
   "metadata": {},
   "source": [
    "3. Números de neurônios na camada oculta para avaliar o desempenho da rede para cada caso:"
   ]
  },
  {
   "cell_type": "code",
   "execution_count": 10,
   "id": "163363d7",
   "metadata": {},
   "outputs": [],
   "source": [
    "neurons = [3,4,5,10,15,20,50,100]"
   ]
  },
  {
   "cell_type": "markdown",
   "id": "f99d0825",
   "metadata": {},
   "source": [
    "## Conjunto de dados para treinamento da rede"
   ]
  },
  {
   "cell_type": "code",
   "execution_count": 11,
   "id": "da58db7b",
   "metadata": {},
   "outputs": [],
   "source": [
    "x = np.zeros((4, 1000)) # Criando o vetor x\n",
    "y = np.zeros((4,1000)) # Criando o vetor y\n",
    "#-- \n",
    "\n",
    "# Intervalo de operação (x) da função a)\n",
    "x[0] = [random.randrange(1,100) for i in range(len(x[1]))] \n",
    "# Intervalo de operação (x) da função b)\n",
    "x[1] = [random.randrange(1,10) for i in range(len(x[1]))]\n",
    "# Intervalo de operação (x) da função c)\n",
    "x[2] = [random.randrange(1,10) for i in range(len(x[1]))]\n",
    "# Intervalo de operação (x) da função d)\n",
    "x[3] = [random.uniform(0, math.pi/2) for i in range(len(x[1]))]\n",
    "\n",
    "# y da Função a) - Note que ele recebe o x calculado anteriormente\n",
    "y[0] = np.reciprocal(x[0]) \n",
    "# y da Função b) - Note que ele recebe o x calculado anteriormente\n",
    "y[1] = np.log10(x[1]) \n",
    "# y da Função c) - Note que ele recebe o x calculado anteriormente\n",
    "y[2] = np.exp(-x[2])\n",
    "# y da Função d) - Note que ele recebe o x calculado anteriormente\n",
    "y[3] = np.sin(x[3]) \n"
   ]
  },
  {
   "cell_type": "markdown",
   "id": "92b69037",
   "metadata": {},
   "source": [
    "## Conjunto de dados para teste"
   ]
  },
  {
   "cell_type": "code",
   "execution_count": 12,
   "id": "6cff9319",
   "metadata": {},
   "outputs": [],
   "source": [
    "# Criando os vetores xteste e yteste\n",
    "xteste = np.zeros((4,1000))\n",
    "yteste = np.zeros((4,1000))\n",
    "\n",
    "# Nota: A função linspace é uma função matemática \n",
    "# que cria um vetor de valores igualmente \n",
    "# espaçados entre dois números especificados. \n",
    "\n",
    "# FUNÇÃO A\n",
    "# -- xteste[0] vetor com os valores igualmente espaçados do intervalo \n",
    "# referente a função a)\n",
    "xteste[0] = np.linspace(1,100,1000)\n",
    "# Função reciprocal calcula o inverso de um número\n",
    "yteste[0] = np.reciprocal(xteste[0])\n",
    "# --\n",
    "\n",
    "# FUNÇÃO B\n",
    "# -- xteste[1] vetor com os valores igualmente espaçados do intervalo \n",
    "# referente a função b)\n",
    "xteste[1] = np.linspace(1,10,1000)\n",
    "#Função log10 calcula o logaritmo de base 10 de um número\n",
    "yteste[1] = np.log10(xteste[1])\n",
    "# --\n",
    "\n",
    "# FUNÇÃO C\n",
    "# -- xteste[2] vetor com os valores igualmente espaçados do intervalo \n",
    "# referente a função c)\n",
    "xteste[2] = np.linspace(1,10,1000)\n",
    "# Função exp é uma função matemática que retorna \n",
    "# o valor da função exponencial de um número\n",
    "yteste[2] = np.exp(-xteste[2])\n",
    "# --\n",
    "\n",
    "# FUNÇÃO D\n",
    "# -- xteste[3] vetor com os valores igualmente espaçados do intervalo \n",
    "# referente a função d)\n",
    "xteste[3] = np.linspace(0,math.pi/2,1000)\n",
    "# Função sin é uma função trigonométrica que\n",
    "# retorna o valor do seno de um ângulo dado\n",
    "yteste[3]  = np.sin(xteste[3])"
   ]
  },
  {
   "cell_type": "markdown",
   "id": "356591c0",
   "metadata": {},
   "source": [
    "## Variáveis para cada caso"
   ]
  },
  {
   "cell_type": "code",
   "execution_count": 3,
   "id": "e25b0f30",
   "metadata": {},
   "outputs": [],
   "source": [
    "MSE1= [] # vetor erro quadrático médio - função a\n",
    "# -- \n",
    "\n",
    "MSE2 = [] # vetor erro quadrático médio - função b\n",
    "# --\n",
    "\n",
    "MSE3=[] # vetor erro quadrático médio - função c\n",
    "# --\n",
    "\n",
    "MSE4=[] # vetor erro quadrático médio - função d\n",
    "# --\n",
    "\n",
    "MSE = [] # vetor com erro quadrático médio das funções a, b, c e d\n",
    "# --\n",
    "\n",
    "ypred1 = [] # vetor que guardará a modelagem da função ´a´ para cada número\n",
    "# de neurônios da camada oculta (3, 4, 5, 10, 15, 20, 50, 100)\n",
    "# --\n",
    "\n",
    "ypred2 = [] # vetor que guardará a modelagem da função ´b´ para cada número\n",
    "# de neurônios da camada oculta (3, 4, 5, 10, 15, 20, 50, 100)\n",
    "# --\n",
    "\n",
    "ypred3 = [] # vetor que guardará a modelagem da função ´c´ para cada número\n",
    "# de neurônios da camada oculta (3, 4, 5, 10, 15, 20, 50, 100)\n",
    "# --\n",
    "\n",
    "ypred4 = [] # vetor que guardará a modelagem da função ´d´ para cada número\n",
    "# de neurônios da camada oculta (3, 4, 5, 10, 15, 20, 50, 100)\n",
    "# --"
   ]
  },
  {
   "cell_type": "markdown",
   "id": "977a081d",
   "metadata": {},
   "source": [
    "## Treinamento e teste das funções solicitadas"
   ]
  },
  {
   "cell_type": "code",
   "execution_count": 4,
   "id": "69dee0e3",
   "metadata": {},
   "outputs": [],
   "source": [
    "# Função 1/x \n",
    "# Inicia o treinamento com os números de neurônios da camada oculta\n",
    "for neuron in neurons: \n",
    "    ypred = []\n",
    "    rede = NN([1, neuron,1], 0.1)\n",
    "    rede.fit(x[0], y[0], 100)\n",
    "    for (xt, target) in zip(xteste[0], yteste[0]): #Inicia o teste\n",
    "        pred = rede.predict(xt)[0][0]\n",
    "        ypred.append(pred)\n",
    "    erro = 0\n",
    "    # erro médio quadrático\n",
    "    erro = np.sum(yteste[0]-ypred)**2/len(yteste[0])\n",
    "    # Adicionando ao vetor ´ypred1´ cada modelagem \n",
    "    # da função 'a' referente ao seguinte números de neurônios:\n",
    "    # (3, 4, 5, 10, 15, 20, 50, 100)\n",
    "    ypred1.append(ypred)\n",
    "    # Adicionando ao vetor ´MSE1´ cada erro médio quadrático \n",
    "    # da função 'a' referente ao seguinte números de neurônios:\n",
    "    # (3, 4, 5, 10, 15, 20, 50, 100)\n",
    "    MSE1.append(erro)\n",
    "MSE.append(MSE1)"
   ]
  },
  {
   "cell_type": "code",
   "execution_count": 5,
   "id": "77e6d71a",
   "metadata": {},
   "outputs": [],
   "source": [
    "# Função log10\n",
    "# Inicia o treinamento com os números de neurônios da camada oculta\n",
    "for neuron in neurons:\n",
    "    ypred = []\n",
    "    rede = NN([1, neuron, 1], 0.1)\n",
    "    rede.fit(x[1], y[1], 100)\n",
    "    for (xt, target) in zip(xteste[1], yteste[1]): #Inicia o teste\n",
    "        pred = rede.predict(xt)[0][0]\n",
    "        ypred.append(pred)\n",
    "    erro = 0\n",
    "    # erro médio quadrático\n",
    "    erro = np.sum(yteste[1]-ypred)**2/len(yteste[1])\n",
    "    # Adicionando ao vetor ´ypred2´ cada modelagem \n",
    "    # da função 'b' referente ao seguinte números de neurônios:\n",
    "    # (3, 4, 5, 10, 15, 20, 50, 100)\n",
    "    ypred2.append(ypred)\n",
    "    # Adicionando ao vetor ´MSE2´ cada erro médio quadrático \n",
    "    # da função 'b' referente ao seguinte números de neurônios:\n",
    "    # (3, 4, 5, 10, 15, 20, 50, 100)\n",
    "    MSE2.append(erro)\n",
    "MSE.append(MSE2)"
   ]
  },
  {
   "cell_type": "code",
   "execution_count": 6,
   "id": "2ad3d4f8",
   "metadata": {},
   "outputs": [],
   "source": [
    "# Função exp\n",
    "# Inicia o treinamento com os números de neurônios da camada oculta\n",
    "for neuron in neurons:\n",
    "    ypred = []\n",
    "    rede = NN([1, neuron, 1], 0.1)\n",
    "    rede.fit(x[2], y[2], 100)\n",
    "    for (xt, target) in zip(xteste[2], yteste[2]): #Inicia o teste\n",
    "        pred = rede.predict(xt)[0][0]\n",
    "        ypred.append(pred)\n",
    "    erro = 0\n",
    "    # erro médio quadrático\n",
    "    erro = np.sum(yteste[2]-ypred)**2/len(yteste[2])\n",
    "    # Adicionando ao vetor ´ypred3´ cada modelagem \n",
    "    # da função 'c' referente ao seguinte números de neurônios:\n",
    "    # (3, 4, 5, 10, 15, 20, 50, 100)\n",
    "    ypred3.append(ypred)\n",
    "    # Adicionando ao vetor ´MSE3´ cada erro médio quadrático \n",
    "    # da função 'c' referente ao seguinte números de neurônios:\n",
    "    # (3, 4, 5, 10, 15, 20, 50, 100)\n",
    "    MSE3.append(erro)\n",
    "MSE.append(MSE3)"
   ]
  },
  {
   "cell_type": "code",
   "execution_count": 7,
   "id": "5fe34ca1",
   "metadata": {},
   "outputs": [],
   "source": [
    "# Função sen\n",
    "# Inicia o treinamento com os números de neurônios da camada oculta\n",
    "for neuron in neurons:\n",
    "    ypred = []\n",
    "    rede = NN([1, neuron], 0.1)\n",
    "    rede.fit(x[3], y[3], 100)\n",
    "    for (xt, target) in zip(xteste[3], yteste[3]): #Inicia o teste\n",
    "        pred = rede.predict(xt)[0][0]\n",
    "        ypred.append(pred)\n",
    "    erro = 0\n",
    "    # erro médio quadrático\n",
    "    erro = np.sum(yteste[3]-ypred)**2/len(yteste[3])\n",
    "    # Adicionando ao vetor ´ypred4´ cada modelagem \n",
    "    # da função 'd' referente ao seguinte números de neurônios:\n",
    "    # (3, 4, 5, 10, 15, 20, 50, 100)\n",
    "    ypred4.append(ypred)\n",
    "    # Adicionando ao vetor ´MSE4´ cada erro médio quadrático \n",
    "    # da função 'c' referente ao seguinte números de neurônios:\n",
    "    # (3, 4, 5, 10, 15, 20, 50, 100)\n",
    "    MSE4.append(erro)\n",
    "MSE.append(MSE4)"
   ]
  },
  {
   "cell_type": "markdown",
   "id": "0fa4a016",
   "metadata": {},
   "source": [
    "## Tabela com o erro médio quadrático\n",
    "\n",
    "1. Nesta tabela explicitaremos o resultado do erro médio quadrático para cada função, com diferentes números de neurônios na camada oculta"
   ]
  },
  {
   "cell_type": "code",
   "execution_count": 22,
   "id": "035400c9",
   "metadata": {},
   "outputs": [
    {
     "name": "stdout",
     "output_type": "stream",
     "text": [
      "\t\tFunção 1/x 1 <= x <= 100\t\t\n",
      "Número de neurônios \t\t Erro Quadrático médio\n",
      "\t3 \t\t\t\t 0.006695\n",
      "\t4 \t\t\t\t 0.001682\n",
      "\t5 \t\t\t\t 0.003235\n",
      "\t10 \t\t\t\t 0.003826\n",
      "\t15 \t\t\t\t 0.000023\n",
      "\t20 \t\t\t\t 0.000262\n",
      "\t50 \t\t\t\t 0.000711\n",
      "\t100 \t\t\t\t 0.001115\n",
      "----------------------------------------------------\n",
      "\t\tFunção log10(x) 1 <= x <= 10\t\t\n",
      "\t3 \t\t\t\t 0.008246\n",
      "\t4 \t\t\t\t 0.010333\n",
      "\t5 \t\t\t\t 0.014501\n",
      "\t10 \t\t\t\t 0.012229\n",
      "\t15 \t\t\t\t 0.018326\n",
      "\t20 \t\t\t\t 0.015600\n",
      "\t50 \t\t\t\t 0.022082\n",
      "\t100 \t\t\t\t 0.018794\n",
      "----------------------------------------------------\n",
      "\t\tFunção exp(-x) 1 <= x <= 10\t\t\n",
      "\t3 \t\t\t\t 0.023414\n",
      "\t4 \t\t\t\t 0.023620\n",
      "\t5 \t\t\t\t 0.022805\n",
      "\t10 \t\t\t\t 0.013451\n",
      "\t15 \t\t\t\t 0.013021\n",
      "\t20 \t\t\t\t 0.011785\n",
      "\t50 \t\t\t\t 0.009016\n",
      "\t100 \t\t\t\t 0.009441\n",
      "----------------------------------------------------\n",
      "\t\tFunção sen(x) 1 <= x <= pi/2\t\t\n",
      "\t3 \t\t\t\t 0.006819\n",
      "\t4 \t\t\t\t 0.006819\n",
      "\t5 \t\t\t\t 0.006819\n",
      "\t10 \t\t\t\t 0.006819\n",
      "\t15 \t\t\t\t 0.006819\n",
      "\t20 \t\t\t\t 0.006819\n",
      "\t50 \t\t\t\t 0.006819\n",
      "\t100 \t\t\t\t 0.006819\n",
      "----------------------------------------------------\n"
     ]
    }
   ],
   "source": [
    "print(\"\\t\\tFunção 1/x 1 <= x <= 100\\t\\t\")\n",
    "print(\"Número de neurônios \\t\\t Erro Quadrático médio\")\n",
    "\n",
    "# neurons> vetor com número de neurônios da camada oculta\n",
    "# MSE> Erro médio quadrático obtido para função a\n",
    "for i in range (0,len(MSE[1])):\n",
    "        print(\"\\t%d \\t\\t\\t\\t %f\" % (neurons[i], MSE[0][i]))\n",
    "print(\"----------------------------------------------------\")\n",
    "\n",
    "# neurons> vetor com número de neurônios da camada oculta\n",
    "# MSE> Erro médio quadrático obtido para função b\n",
    "print(\"\\t\\tFunção log10(x) 1 <= x <= 10\\t\\t\")\n",
    "for i in range (0,len(MSE[1])):\n",
    "        print(\"\\t%d \\t\\t\\t\\t %f\" % (neurons[i], MSE[1][i]))\n",
    "print(\"----------------------------------------------------\")\n",
    "\n",
    "# neurons> vetor com número de neurônios da camada oculta\n",
    "# MSE> Erro médio quadrático obtido para função c\n",
    "print(\"\\t\\tFunção exp(-x) 1 <= x <= 10\\t\\t\")\n",
    "for i in range (0,len(MSE[1])):\n",
    "        print(\"\\t%d \\t\\t\\t\\t %f\" % (neurons[i], MSE[2][i]))\n",
    "print(\"----------------------------------------------------\")\n",
    "\n",
    "# neurons> vetor com número de neurônios da camada oculta\n",
    "# MSE> Erro médio quadrático obtido para função d\n",
    "print(\"\\t\\tFunção sen(x) 1 <= x <= pi/2\\t\\t\")\n",
    "for i in range (0,len(MSE[1])):\n",
    "        print(\"\\t%d \\t\\t\\t\\t %f\" % (neurons[i], MSE[3][i]))\n",
    "print(\"----------------------------------------------------\")"
   ]
  },
  {
   "cell_type": "markdown",
   "id": "37b7d4a7",
   "metadata": {},
   "source": [
    "## Relação visual"
   ]
  },
  {
   "cell_type": "code",
   "execution_count": 21,
   "id": "08003c9c",
   "metadata": {},
   "outputs": [
    {
     "data": {
      "image/png": "[encoded data removed]",
      "text/plain": [
       "<Figure size 640x480 with 4 Axes>"
      ]
     },
     "metadata": {},
     "output_type": "display_data"
    }
   ],
   "source": [
    "fig, axs = plt.subplots(2, 2)\n",
    "# xteste e yteste faz referência a função real \n",
    "# xteste e ypred1 faz referência às funções modeladas\n",
    "axs[0, 0].plot(xteste[0], yteste[0],xteste[0],ypred1[6])\n",
    "axs[0,0].legend(labels=['Função Real', 'Função Mod.'])\n",
    "axs[0, 0].set_title('Função 1/x com 50 Neur.')\n",
    "axs[0, 1].plot(xteste[1], yteste[1],xteste[1],ypred2[0])\n",
    "axs[0, 1].legend(labels=['Função Real', 'Função Mod.'])\n",
    "axs[0, 1].set_title('Função log10(x) com 3 Neur.')\n",
    "axs[1, 0].plot(xteste[2], yteste[2],xteste[2],ypred3[5])\n",
    "axs[1, 0].legend(labels=['Função Real', 'Função Mod.'])\n",
    "axs[1, 0].set_title('Função exp(-x) com 20 Neur.')\n",
    "axs[1, 1].plot(xteste[3], yteste[3],xteste[3],ypred4[7])\n",
    "axs[1, 1].legend(labels=['Função Real', 'Função Mod.'])\n",
    "axs[1, 1].set_title('Função sen(x) com 100 Neur.')\n",
    "\n",
    "for ax in axs.flat:\n",
    "    ax.set(xlabel='x', ylabel='y')\n",
    "\n",
    "# Hide x labels and tick labels for top plots and y ticks for right plots.\n",
    "for ax in axs.flat:\n",
    "    ax.label_outer()"
   ]
  }
 ],
 "metadata": {
  "kernelspec": {
   "display_name": "Python 3 (ipykernel)",
   "language": "python",
   "name": "python3"
  },
  "language_info": {
   "codemirror_mode": {
    "name": "ipython",
    "version": 3
   },
   "file_extension": ".py",
   "mimetype": "text/x-python",
   "name": "python",
   "nbconvert_exporter": "python",
   "pygments_lexer": "ipython3",
   "version": "3.9.13"
  }
 },
 "nbformat": 4,
 "nbformat_minor": 5
}
